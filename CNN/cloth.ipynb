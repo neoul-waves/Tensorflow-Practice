{
 "cells": [
  {
   "cell_type": "code",
   "execution_count": 1,
   "metadata": {},
   "outputs": [],
   "source": [
    "import ssl\n",
    "import tensorflow as tf\n",
    "import numpy as np\n",
    "import matplotlib.pyplot as plt\n",
    "\n",
    "ssl._create_default_https_context = ssl._create_unverified_context\n",
    "(trainX, trainY), (testX, testY) = tf.keras.datasets.fashion_mnist.load_data()"
   ]
  },
  {
   "cell_type": "code",
   "execution_count": 2,
   "metadata": {},
   "outputs": [],
   "source": [
    "# class_names = ['T-shirt/top', 'Trouser', 'Pullover', 'Dress', 'Coat', 'Sandal', 'Shirt', 'Sneaker', 'Bag', 'Ankle boot']\n",
    "class_names = ['티셔츠', '바지', '스웨터', '드레스', '코트', '샌달', '셔츠', '운동화', '가방', '앵클부츠']"
   ]
  },
  {
   "attachments": {},
   "cell_type": "markdown",
   "metadata": {},
   "source": [
    "sigmoid: 결과를 0~1로 압축해줌\n",
    "- binary 예측문제에 사용한다\n",
    "- 마지막 노드 갯수는 1개로한다\n",
    "\n",
    "softmax: 결과를 0~1로 압축해준다\n",
    "- 카테고리가 여러개일때 예측문제에 사용한다\n",
    "- 예측한 카테고리 확률을 모두 더하면 1이 나온다\n",
    "\n",
    "relu: 모든 음수를 0으로 만들어준다\n",
    "- convolution layer에서 자주 쓴다\n",
    "- 이미지는 0~255(RGB) 여서 음수 나올일이 없기때문에 이미지 에서 씀"
   ]
  },
  {
   "cell_type": "code",
   "execution_count": 3,
   "metadata": {},
   "outputs": [],
   "source": [
    "trainX = trainX / 255.0\n",
    "testX = testX / 255.0"
   ]
  },
  {
   "cell_type": "code",
   "execution_count": 4,
   "metadata": {},
   "outputs": [],
   "source": [
    "trainX = trainX.reshape( (trainX.shape[0], 28, 28, 1) )\n",
    "testX = testX.reshape( (testX.shape[0], 28, 28, 1 ) )\n",
    "# 흑백일경우 (x, y, 1)\n",
    "# 컬러일경우 RGB들어가서 (x, y, 3)"
   ]
  },
  {
   "cell_type": "code",
   "execution_count": 5,
   "metadata": {},
   "outputs": [
    {
     "name": "stdout",
     "output_type": "stream",
     "text": [
      "Metal device set to: Apple M1\n",
      "\n",
      "systemMemory: 8.00 GB\n",
      "maxCacheSize: 2.67 GB\n",
      "\n",
      "Model: \"sequential\"\n",
      "_________________________________________________________________\n",
      " Layer (type)                Output Shape              Param #   \n",
      "=================================================================\n",
      " conv2d (Conv2D)             (None, 28, 28, 32)        320       \n",
      "                                                                 \n",
      " max_pooling2d (MaxPooling2  (None, 14, 14, 32)        0         \n",
      " D)                                                              \n",
      "                                                                 \n",
      " flatten (Flatten)           (None, 6272)              0         \n",
      "                                                                 \n",
      " dense (Dense)               (None, 64)                401472    \n",
      "                                                                 \n",
      " dense_1 (Dense)             (None, 10)                650       \n",
      "                                                                 \n",
      "=================================================================\n",
      "Total params: 402442 (1.54 MB)\n",
      "Trainable params: 402442 (1.54 MB)\n",
      "Non-trainable params: 0 (0.00 Byte)\n",
      "_________________________________________________________________\n"
     ]
    },
    {
     "name": "stderr",
     "output_type": "stream",
     "text": [
      "2023-06-01 00:24:01.187205: I tensorflow/core/common_runtime/pluggable_device/pluggable_device_factory.cc:303] Could not identify NUMA node of platform GPU ID 0, defaulting to 0. Your kernel may not have been built with NUMA support.\n",
      "2023-06-01 00:24:01.187839: I tensorflow/core/common_runtime/pluggable_device/pluggable_device_factory.cc:269] Created TensorFlow device (/job:localhost/replica:0/task:0/device:GPU:0 with 0 MB memory) -> physical PluggableDevice (device: 0, name: METAL, pci bus id: <undefined>)\n"
     ]
    }
   ],
   "source": [
    "# Conv2D( 이미지 갯수, 커널 사이즈 )\n",
    "model = tf.keras.Sequential([\n",
    "  tf.keras.layers.Conv2D( 32, (3,3), padding=\"same\", activation=\"relu\", input_shape=(28, 28, 1) ), \n",
    "  tf.keras.layers.MaxPooling2D( (2,2) ),\n",
    "  tf.keras.layers.Flatten(),\n",
    "  tf.keras.layers.Dense(64, activation='relu'),\n",
    "  tf.keras.layers.Dense(10, activation='softmax'),\n",
    "])\n",
    "\n",
    "model.summary()"
   ]
  },
  {
   "attachments": {},
   "cell_type": "markdown",
   "metadata": {},
   "source": [
    "Flatten layer\n",
    "* 2차원 데이터를 1차원 데이터로 압축해줌\n",
    "\n",
    "이미지를 flatten 했을때의 문제점\n",
    "* 응용력이 없어짐, 기존 가중치의 의미가 사라짐\n",
    "\n",
    "해결방법\n",
    "* convolution layer: 이미지를 여러 버전으로 만들어줌 (여러 커널으로 각각 다른 특징을 살려서)"
   ]
  },
  {
   "attachments": {},
   "cell_type": "markdown",
   "metadata": {},
   "source": [
    "단순 Convolution Layer의 문제점\n",
    "- 이미지가 이동했을때 응용력이 떨어짐\n",
    "\n",
    "해결방법\n",
    "- Pooling layer(Downsampling) 이미지를 추려서 축소작업"
   ]
  },
  {
   "attachments": {},
   "cell_type": "markdown",
   "metadata": {},
   "source": [
    "카테고리 예측문제에서 쓰이는 손실함수\n",
    "* 원핫 인코딩 되어있는경우 : categorical_crossentropy\n",
    "* 데이터가 정수인경우 : sparse_categorical_crossentropy"
   ]
  },
  {
   "cell_type": "code",
   "execution_count": 6,
   "metadata": {},
   "outputs": [
    {
     "name": "stdout",
     "output_type": "stream",
     "text": [
      "Epoch 1/5\n",
      "   1/1875 [..............................] - ETA: 10:03 - loss: 2.2905 - accuracy: 0.0938"
     ]
    },
    {
     "name": "stderr",
     "output_type": "stream",
     "text": [
      "2023-06-01 00:24:02.093121: I tensorflow/core/grappler/optimizers/custom_graph_optimizer_registry.cc:114] Plugin optimizer for device_type GPU is enabled.\n"
     ]
    },
    {
     "name": "stdout",
     "output_type": "stream",
     "text": [
      "1875/1875 [==============================] - 12s 6ms/step - loss: 0.3934 - accuracy: 0.8610\n",
      "Epoch 2/5\n",
      "1875/1875 [==============================] - 12s 6ms/step - loss: 0.2680 - accuracy: 0.9030\n",
      "Epoch 3/5\n",
      "1875/1875 [==============================] - 12s 6ms/step - loss: 0.2284 - accuracy: 0.9160\n",
      "Epoch 4/5\n",
      "1875/1875 [==============================] - 12s 6ms/step - loss: 0.1991 - accuracy: 0.9271\n",
      "Epoch 5/5\n",
      "1875/1875 [==============================] - 11s 6ms/step - loss: 0.1752 - accuracy: 0.9359\n"
     ]
    },
    {
     "data": {
      "text/plain": [
       "<keras.src.callbacks.History at 0x1546a2830>"
      ]
     },
     "execution_count": 6,
     "metadata": {},
     "output_type": "execute_result"
    }
   ],
   "source": [
    "model.compile( loss=\"sparse_categorical_crossentropy\", optimizer=\"adam\", metrics=['accuracy'] )\n",
    "model.fit(trainX, trainY, epochs=5)"
   ]
  },
  {
   "cell_type": "code",
   "execution_count": 7,
   "metadata": {},
   "outputs": [
    {
     "name": "stdout",
     "output_type": "stream",
     "text": [
      " 19/313 [>.............................] - ETA: 1s - loss: 0.2116 - accuracy: 0.9227"
     ]
    },
    {
     "name": "stderr",
     "output_type": "stream",
     "text": [
      "2023-06-01 00:25:00.268297: I tensorflow/core/grappler/optimizers/custom_graph_optimizer_registry.cc:114] Plugin optimizer for device_type GPU is enabled.\n"
     ]
    },
    {
     "name": "stdout",
     "output_type": "stream",
     "text": [
      "313/313 [==============================] - 2s 5ms/step - loss: 0.2466 - accuracy: 0.9143\n",
      "[0.24661804735660553, 0.9143000245094299]\n"
     ]
    }
   ],
   "source": [
    "score = model.evaluate(testX, testY)\n",
    "print(score)"
   ]
  },
  {
   "cell_type": "code",
   "execution_count": 8,
   "metadata": {},
   "outputs": [
    {
     "name": "stdout",
     "output_type": "stream",
     "text": [
      "INFO:tensorflow:Assets written to: ../models/CNN_Clothes/assets\n"
     ]
    },
    {
     "name": "stderr",
     "output_type": "stream",
     "text": [
      "INFO:tensorflow:Assets written to: ../models/CNN_Clothes/assets\n"
     ]
    }
   ],
   "source": [
    "model.save('../models/CNN_Clothes')"
   ]
  }
 ],
 "metadata": {
  "kernelspec": {
   "display_name": "Python 3",
   "language": "python",
   "name": "python3"
  },
  "language_info": {
   "codemirror_mode": {
    "name": "ipython",
    "version": 3
   },
   "file_extension": ".py",
   "mimetype": "text/x-python",
   "name": "python",
   "nbconvert_exporter": "python",
   "pygments_lexer": "ipython3",
   "version": "3.10.11"
  },
  "orig_nbformat": 4
 },
 "nbformat": 4,
 "nbformat_minor": 2
}
